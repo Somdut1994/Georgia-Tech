{
  "nbformat": 4,
  "nbformat_minor": 0,
  "metadata": {
    "colab": {
      "name": "HW3_CSE_6240_template.ipynb",
      "provenance": [],
      "collapsed_sections": [],
      "toc_visible": true
    },
    "kernelspec": {
      "display_name": "Python 3",
      "language": "python",
      "name": "python3"
    },
    "language_info": {
      "codemirror_mode": {
        "name": "ipython",
        "version": 3
      },
      "file_extension": ".py",
      "mimetype": "text/x-python",
      "name": "python",
      "nbconvert_exporter": "python",
      "pygments_lexer": "ipython3",
      "version": "3.6.9"
    }
  },
  "cells": [
    {
      "cell_type": "markdown",
      "metadata": {
        "colab_type": "text",
        "id": "-lgZlHI45xhp"
      },
      "source": [
        "# Q1.Decision Based Diffusion[50 Points]"
      ]
    },
    {
      "cell_type": "markdown",
      "metadata": {
        "colab_type": "text",
        "id": "HNFLyCHL5_df"
      },
      "source": [
        "## 0-A. Set-up[-2 if author function is not called]"
      ]
    },
    {
      "cell_type": "code",
      "metadata": {
        "colab_type": "code",
        "id": "qXNVNyxD7Q-n",
        "outputId": "481a846a-dd85-47a6-eb1e-5236baf862a3",
        "colab": {
          "base_uri": "https://localhost:8080/",
          "height": 34
        }
      },
      "source": [
        "def author(gt_username = 'pburdell3'):\n",
        "  print(\"This assignment is submitted by {0}.\".format(gt_username))\n",
        "#Add your GT_UserName below and uncomment the line.\n",
        "author('sroy86')"
      ],
      "execution_count": 1,
      "outputs": [
        {
          "output_type": "stream",
          "text": [
            "This assignment is submitted by sroy86.\n"
          ],
          "name": "stdout"
        }
      ]
    },
    {
      "cell_type": "code",
      "metadata": {
        "colab_type": "code",
        "id": "3zvDIWSd8OwX",
        "outputId": "898a1771-30a9-465f-c539-6a48da6deffd",
        "colab": {
          "base_uri": "https://localhost:8080/",
          "height": 34
        }
      },
      "source": [
        "#Installations\n",
        "!pip install snap-stanford"
      ],
      "execution_count": 2,
      "outputs": [
        {
          "output_type": "stream",
          "text": [
            "Requirement already satisfied: snap-stanford in /usr/local/lib/python3.6/dist-packages (5.0.0)\n"
          ],
          "name": "stdout"
        }
      ]
    },
    {
      "cell_type": "code",
      "metadata": {
        "colab_type": "code",
        "id": "zbcIy6x69kC9",
        "colab": {}
      },
      "source": [
        "import snap\n",
        "import matplotlib.pyplot as plt\n",
        "import numpy as np\n",
        "\n",
        "\n",
        "# Setup\n",
        "num_voters = 10000\n",
        "decision_period = 10"
      ],
      "execution_count": 0,
      "outputs": []
    },
    {
      "cell_type": "markdown",
      "metadata": {
        "colab_type": "text",
        "id": "jHA8sZ426gzj"
      },
      "source": [
        "## 0-B. Utility Functions[25 Points]"
      ]
    },
    {
      "cell_type": "code",
      "metadata": {
        "colab_type": "code",
        "id": "gfpGnZLf96W1",
        "colab": {}
      },
      "source": [
        "#Utility functions:\n",
        "def read_graph(path):\n",
        "    \"\"\"\n",
        "    Function to read the .txt file to load the undirected graph.\n",
        "    \n",
        "    Args: path: path to edge list file\n",
        "    Returns: Graph: loaded Graph(snap.PUNGraph)\n",
        "\n",
        "    \"\"\"\n",
        "    Graph = None\n",
        "    ### Add your code here.[1 Point]\n",
        "    Graph = snap.LoadEdgeList(snap.PUNGraph, path, 0, 1)\n",
        "    ######################\n",
        "\n",
        "    return Graph\n",
        "\n",
        "def get_neighbors(graph,nodeId):\n",
        "    \"\"\"\n",
        "    Function to get all neighbours of a node in a given graph.\n",
        "\n",
        "    Arg: graph:  snap.PUNGraph object representing an undirected graph\n",
        "         nodeId: An integer in the range of (0,num_voters-1)(inclusive)\n",
        "    Returns: neighbours : List of neighbouring nodes\n",
        "\n",
        "    \"\"\"\n",
        "    neighbours = None\n",
        "    ### Add your code here.[2 Points]\n",
        "    neighbours=[i for i in graph.GetNI(nodeId).GetOutEdges()]\n",
        "    ######################\n",
        "    return neighbours\n",
        "\n",
        "def get_vote_count(nodeset, pref, letter):\n",
        "    \"\"\"\n",
        "    Function to get the vote counts for a particular candidate(letter) given a nodeset and their preferences\n",
        "\n",
        "    Args: nodeset: Set of Graph Nodes\n",
        "         pref: preference mapping\n",
        "         letter: Candidate letter\n",
        "    Returns: vote_count : Vote count for the given candidate\n",
        "\n",
        "    \"\"\"\n",
        "    vote_count = None\n",
        "    ### Add your code here.[1 Point]\n",
        "    vote_count=0\n",
        "    for node in nodeset:\n",
        "      vote_count+=int(pref[node]==letter)\n",
        "    ######################\n",
        "    return vote_count\n",
        "\n",
        "def winner(pref):\n",
        "    \"\"\"\n",
        "    Function to get the winner of election process.(Please use the appropriate utitlity function(s) as required.)\n",
        "\n",
        "    Args: pref: Dictionary object mapping node ids to the voting preferences\n",
        "    Returns: winner: Winning candidate character(char)\n",
        "             margin: Margin of victory or loss for A(i.e. margin = a_count - b_count)\n",
        "\n",
        "    Note: Please note that for margin calculation we're NOT taking the absolute value.\n",
        "    \"\"\"\n",
        "    winner = None\n",
        "    margin = None\n",
        "    ### Add your code here.[3 Points]\n",
        "    nodeset=set(pref.keys())\n",
        "    a_count=get_vote_count(nodeset, pref, 'A')\n",
        "    b_count=get_vote_count(nodeset, pref, 'B')\n",
        "    margin=a_count-b_count\n",
        "    if margin>0:\n",
        "      winner, margin='A', margin\n",
        "    elif margin<0:\n",
        "      winner, margin='B', margin\n",
        "    else:\n",
        "      winner, margin='Tied', 0\n",
        "    return [winner, margin]\n",
        "    ######################\n",
        "\n",
        "def sort_nodes_by_popularity(graph):\n",
        "    \"\"\"\n",
        "    Function to sort all nodes of the given graph in descending order of their popularity(degree).\n",
        "\n",
        "    Args: graph: snap.PUNGraph object representing an undirected graph\n",
        "    Returns: ids: NodeIds list sorted based on their degrees(Descending order)\n",
        "             degrees: Degrees corresponding to the above node Ids.(Should have one to one correspondence with the above ids list)\n",
        "\n",
        "    Example output(dummy): ids: [2,1,3,0]\n",
        "                           degrees: [3,2,2,0] Note that both node 1 and 3 have the same degree, so the node with the lowest id\n",
        "                                              comes first.(Please refer to the question for details)\n",
        "\n",
        "    \"\"\"\n",
        "    degrees = []\n",
        "    ids = []\n",
        "    ### Add your code here.[5 Points]\n",
        "    DegData=[]\n",
        "    for NI in graph.Nodes():\n",
        "      DegData.append([NI.GetId(), NI.GetDeg()])\n",
        "    \n",
        "    DegData.sort(key=lambda x: (-x[1], x[0]))\n",
        "    DegData=list(map(list, zip(*DegData)))\n",
        "    ids, degrees = DegData[0], DegData[1]\n",
        "    ######################\n",
        "    for i in range(1, len(degrees)):\n",
        "        assert(degrees[i] <= degrees[i-1])\n",
        "\n",
        "    return ids, degrees\n",
        "\n",
        "def initial_voting_state(Graph):\n",
        "    \"\"\"\n",
        "    Function to initialize the voting preferences.\n",
        "\n",
        "    Args: Graph: snap.PUNGraph object representing an undirected graph\n",
        "    Returns: voter_prefs: Dictionary mapping node IDs to initial voter preference\n",
        "            ('A', 'B', or 'U')\n",
        "    Note: 'U' denotes undecided voting preference.\n",
        "\n",
        "    Example: Some random key-value pairs of the dict are\n",
        "             {0 : 'A', 24 : 'B', 118 : 'U'}.\n",
        "    \"\"\"\n",
        "    voter_prefs = {}\n",
        "\n",
        "    ### Add your code here.[4 Points]\n",
        "    for NI in Graph.Nodes():\n",
        "      voter=NI.GetId()\n",
        "      k=voter%10\n",
        "      if k<4:\n",
        "        voter_prefs[voter]='A'\n",
        "      elif k<8:\n",
        "        voter_prefs[voter]='B'\n",
        "      else:\n",
        "        voter_prefs[voter]='U'\n",
        "    ######################\n",
        "    assert(len(voter_prefs) == num_voters)\n",
        "    return voter_prefs\n",
        "\n",
        "def iterate_voting(Graph, init_pref):\n",
        "    \"\"\"\n",
        "    Function to perform the 10-day decision process.\n",
        "\n",
        "    Args: Graph: snap.PUNGraph object representing an undirected graph\n",
        "         init_pref: Dictionary object containing the initial voting\n",
        "                    preferences (before any iteration of the decision\n",
        "                    process)\n",
        "    Returns: curr_pref: Dictionary containing the voting preferences (mapping node IDs to\n",
        "                        'A','B' or 'U') after the decision process.\n",
        "\n",
        "    Hint: Use global variables num_voters and decision_period to iterate.\n",
        "    \"\"\"\n",
        "    curr_pref = init_pref.copy()\n",
        "    curr_alternating_vote = 'A'\n",
        "\n",
        "    ### Add your code here.[7 Points]\n",
        "    for itr in range(decision_period):\n",
        "      for i in range(num_voters):\n",
        "        if i%10>7:\n",
        "          nlist=get_neighbors(Graph, i)\n",
        "          a_count=get_vote_count(nlist, curr_pref, 'A')\n",
        "          b_count=get_vote_count(nlist, curr_pref, 'B')\n",
        "          if a_count>b_count:\n",
        "            curr_pref[i]='A'\n",
        "          elif b_count>a_count:\n",
        "            curr_pref[i]='B'\n",
        "          else:\n",
        "            curr_pref[i]=curr_alternating_vote\n",
        "            if curr_alternating_vote=='A':\n",
        "              curr_alternating_vote='B'\n",
        "            else:\n",
        "              curr_alternating_vote='A'\n",
        "    ######################\n",
        "    return curr_pref\n",
        "\n",
        "def sim_election(Graph):\n",
        "    \"\"\"\n",
        "    Function to simulate the election process, takes the Graph as input and\n",
        "    gives the final voting preferences (dictionary) as output.\n",
        "\n",
        "    Args: Graph: snap.PUNGraph object representing an undirected graph\n",
        "    Returns: pref: Dictionary containing the voting preferences (mapping node IDs to\n",
        "                        'A','B' or 'U') after the decision process.\n",
        "    \"\"\"\n",
        "    ### Add your code here.[2 Points]\n",
        "    init_pref=initial_voting_state(Graph)\n",
        "    pref=iterate_voting(Graph, init_pref)\n",
        "    ######################\n",
        "    \n",
        "    return pref"
      ],
      "execution_count": 0,
      "outputs": []
    },
    {
      "cell_type": "markdown",
      "metadata": {
        "colab_type": "text",
        "id": "6LfjzAu87PLF"
      },
      "source": [
        "## 1. Basic Setup and Simulation[3 Points]"
      ]
    },
    {
      "cell_type": "markdown",
      "metadata": {
        "colab_type": "text",
        "id": "bXj6jY157Xna"
      },
      "source": [
        "### 1-A. Utility Functions"
      ]
    },
    {
      "cell_type": "markdown",
      "metadata": {
        "colab_type": "text",
        "id": "3wxnlk_g8s5j"
      },
      "source": [
        "For this part you should complete the following utility functions:\n",
        "\n",
        "\n",
        "1.   read_graph\n",
        "2.   get_neighbors\n",
        "3.   get_vote_count\n",
        "4.   winner\n",
        "4.   initial_voting_state\n",
        "5.   iterate_voting\n",
        "6.   sim_election\n",
        "\n"
      ]
    },
    {
      "cell_type": "markdown",
      "metadata": {
        "colab_type": "text",
        "id": "BT1kkez79aio"
      },
      "source": [
        "### 1-B. Part 1 Simulation[3 Points]"
      ]
    },
    {
      "cell_type": "code",
      "metadata": {
        "colab_type": "code",
        "id": "bG-NCuVgDb_V",
        "colab": {}
      },
      "source": [
        "#Q1\n",
        "def Q1():\n",
        "    \"\"\"\n",
        "    Function to carry out part 1.(Please use the appropriate utitlity function(s) as required.)\n",
        "    You should be carrying out the following steps:\n",
        "    1) Load the graphs.\n",
        "    2) Simulate the election and find final preferences.\n",
        "    3) Get the winner for both the networks.\n",
        "    \"\"\"\n",
        "\n",
        "    print (\"\\nQ1:\")\n",
        "    winners = [] #Stores the Winners of the election for both graphs\n",
        "    ### Add your code here.\n",
        "    graph1=read_graph('graph1.txt')\n",
        "    pref1=sim_election(graph1)\n",
        "    winners.append(winner(pref1))\n",
        "    graph2=read_graph('graph2.txt')\n",
        "    pref2=sim_election(graph2)\n",
        "    winners.append(winner(pref2))    \n",
        "    ########################\n",
        "\n",
        "    for i in range(2):\n",
        "        print (\"In graph {0}, candidate {1} wins by {2} votes\".format(\n",
        "                i+1, winners[i][0], abs(winners[i][1])))"
      ],
      "execution_count": 0,
      "outputs": []
    },
    {
      "cell_type": "markdown",
      "metadata": {
        "colab_type": "text",
        "id": "L5UkYrLj9lrS"
      },
      "source": [
        "## 2. TV Advertising [10 Points]"
      ]
    },
    {
      "cell_type": "code",
      "metadata": {
        "colab_type": "code",
        "id": "Csc4vnjVLyZZ",
        "colab": {}
      },
      "source": [
        "#Q2\n",
        "def Q2sim(Graph, k):\n",
        "    \"\"\"\n",
        "    Function to simulate the effect of advertising.(Please use the appropriate utitlity function(s) as required.)\n",
        "    Args: Graph: snap.PUNGraph object representing an undirected graph\n",
        "         k: amount to be spent on advertising\n",
        "    Returns: margin: The number of votes by which A wins (or loses), i.e. (number of\n",
        "            votes of A - number of votes of B)\n",
        "\n",
        "    \"\"\"\n",
        "    curr_pref = initial_voting_state(Graph)\n",
        "    curr_alternating_vote = 'A'\n",
        "    new_supporters=list(range(3000, int(3000+k/100)))\n",
        "    for i in new_supporters:\n",
        "      curr_pref[i]='A'\n",
        "    ### Add your code here.[7 Points]\n",
        "    for itr in range(decision_period):\n",
        "      for i in range(num_voters):\n",
        "        if i%10>7 and i not in new_supporters:\n",
        "          nlist=get_neighbors(Graph, i)\n",
        "          a_count=get_vote_count(nlist, curr_pref, 'A')\n",
        "          b_count=get_vote_count(nlist, curr_pref, 'B')\n",
        "          if a_count>b_count:\n",
        "            curr_pref[i]='A'\n",
        "          elif b_count>a_count:\n",
        "            curr_pref[i]='B'\n",
        "          else:\n",
        "            curr_pref[i]=curr_alternating_vote\n",
        "            if curr_alternating_vote=='A':\n",
        "              curr_alternating_vote='B'\n",
        "            else:\n",
        "              curr_alternating_vote='A'\n",
        "    margin=winner(curr_pref)[1]\n",
        "    ########################\n",
        "    return margin\n",
        "\n",
        "def find_min_k(diffs):\n",
        "    \"\"\"\n",
        "    Function to return the minimum advertising amount needed for A to win.\n",
        "    Args: diffs: list of (k, diff), where diff is the value by which A wins\n",
        "                (or loses) i.e. (A-B), for that k.\n",
        "    Returns: min_ad_amount: The minimum amount needed for A to win\n",
        "\n",
        "    \"\"\"\n",
        "    min_ad_amount = None\n",
        "    ### Add your code here.[3 Points]\n",
        "    for k, diff in diffs:\n",
        "      if diff>0:\n",
        "        min_ad_amount=k\n",
        "        break\n",
        "    ########################\n",
        "    return min_ad_amount\n",
        "\n",
        "def make_plot(res, title):\n",
        "    \"\"\"\n",
        "    Function to plot the amount spent(x-axis)(for values k = 1000; 2000; : : : ; 9000) \n",
        "    and the number of votes the candidate A wins or loses(A-B) by(y-axis).\n",
        "    Args: res: The list of 2 sublists for 2 graphs. Each sublist is a list\n",
        "                  of (k, diff) pair, where k is the amount spent, and diff is\n",
        "                  the difference in votes (A-B).\n",
        "         title: The title of the plot\n",
        "    Note: For Graph 1 please use green color and label it as 'Graph1' and for graph2 use red color and label it as 'Graph2'\n",
        "    \"\"\"\n",
        "    Ks = [[k for k, diff in sub] for sub in res]\n",
        "    res = [[diff for k, diff in sub] for sub in res]\n",
        "    plt.plot(Ks[0], [0.0] * len(Ks[0]), ':', color='black')\n",
        "    ### Add your code here.[2 Point]\n",
        "    plt.plot(Ks[0], res[0], ':', color='green', label='Graph1')\n",
        "    plt.plot(Ks[1], res[1], ':', color='red', label='Graph2')\n",
        "    ########################\n",
        "    plt.xlabel('Amount spent ($)')\n",
        "    plt.ylabel('#votes for A - #votes for B')\n",
        "    plt.title(title)\n",
        "    plt.legend()\n",
        "    plt.show()\n",
        "\n",
        "def Q2():\n",
        "    \"\"\"\n",
        "    Function to carry out part 2.(Please use the appropriate utitlity function(s) as required.)\n",
        "    You should be carrying out the following steps:\n",
        "    1) Load the graphs.\n",
        "    2) Run Q2 Simulations(for details please refer to the question) and find the vote difference(A-B) for each k\n",
        "    3) Find the minimum amount needed for 'A' to win the election.\n",
        "    4) Plot $k (the amount you spend) on the x-axis (for values k =\n",
        "       1000; 2000; : : : ; 9000) and the number of votes for A minus the number of votes for B on the y-axis.\n",
        "    \"\"\"\n",
        "    print (\"\\nQ2:\")\n",
        "    res = None #To be used by make_plot(), check it's documentation for details\n",
        "    Ks = [x * 1000 for x in range(1, 10)] #List of possible ad amounts.\n",
        "    ### Add your code here.[2 Points]\n",
        "    res=[]\n",
        "    graph1=read_graph('graph1.txt')\n",
        "    kdiff=[]\n",
        "    for k in Ks:\n",
        "      diff=Q2sim(graph1, k)\n",
        "      kdiff.append((k, diff))\n",
        "    res.append(kdiff)\n",
        "    graph2=read_graph('graph2.txt')\n",
        "    kdiff=[]\n",
        "    for k in Ks:\n",
        "      diff=Q2sim(graph2, k)\n",
        "      kdiff.append((k, diff))\n",
        "    res.append(kdiff)\n",
        "    min_k=[find_min_k(kdiff) for kdiff in res]\n",
        "    ########################\n",
        "\n",
        "    for i in range(2):\n",
        "        print(\"On graph {0}, the minimum amount you can spend to win is {1}\".format(i + 1, min_k[i]))\n",
        "\n",
        "    make_plot(res, 'TV Advertising')\n",
        "\n"
      ],
      "execution_count": 0,
      "outputs": []
    },
    {
      "cell_type": "markdown",
      "metadata": {
        "colab_type": "text",
        "id": "QxPH3gyK-b6X"
      },
      "source": [
        "## 3. Wining and Dining [6 Points]"
      ]
    },
    {
      "cell_type": "markdown",
      "metadata": {
        "colab_type": "text",
        "id": "efhFS0Py-y2q"
      },
      "source": [
        "### 3-A. Utility Functions"
      ]
    },
    {
      "cell_type": "markdown",
      "metadata": {
        "colab_type": "text",
        "id": "7fGZ9yux-2uH"
      },
      "source": [
        "For this part you should complete the following utility functions:\n",
        "\n",
        "\n",
        "1.   sort_nodes_by_popularity"
      ]
    },
    {
      "cell_type": "markdown",
      "metadata": {
        "colab_type": "text",
        "id": "DCDncH31-6ID"
      },
      "source": [
        "### 3-B. Part 3 Simulation"
      ]
    },
    {
      "cell_type": "code",
      "metadata": {
        "colab_type": "code",
        "id": "FvajqKFQk5r5",
        "colab": {}
      },
      "source": [
        "#Q3\n",
        "def Q3sim(Graph, k):\n",
        "    \"\"\"\n",
        "    Function to simulate the effect of a dining event(Part 3).\n",
        "\n",
        "    Args: Graph: snap.PUNGraph object representing an undirected graph\n",
        "         k: amount to be spent on the dining event\n",
        "    Returns: margin: The number of votes by which A wins (or loses), i.e. (number of\n",
        "            votes of A - number of votes of B)\n",
        "    \n",
        "    \"\"\"\n",
        "    margin = None\n",
        "    ### Add your code here.[4 Points]\n",
        "    ids, degrees = sort_nodes_by_popularity(Graph)\n",
        "    curr_pref = initial_voting_state(Graph)\n",
        "    curr_alternating_vote = 'A'\n",
        "    new_supporters=ids[:int(k/1000)]\n",
        "    for i in new_supporters:\n",
        "      curr_pref[i]='A'\n",
        "    ### Add your code here.[7 Points]\n",
        "    for itr in range(decision_period):\n",
        "      for i in range(num_voters):\n",
        "        if i%10>7 and i not in new_supporters:\n",
        "          nlist=get_neighbors(Graph, i)\n",
        "          a_count=get_vote_count(nlist, curr_pref, 'A')\n",
        "          b_count=get_vote_count(nlist, curr_pref, 'B')\n",
        "          if a_count>b_count:\n",
        "            curr_pref[i]='A'\n",
        "          elif b_count>a_count:\n",
        "            curr_pref[i]='B'\n",
        "          else:\n",
        "            curr_pref[i]=curr_alternating_vote\n",
        "            if curr_alternating_vote=='A':\n",
        "              curr_alternating_vote='B'\n",
        "            else:\n",
        "              curr_alternating_vote='A'\n",
        "    margin=winner(curr_pref)[1]    \n",
        "    ########################\n",
        "    return margin\n",
        "\n",
        "def Q3():\n",
        "    \"\"\"\n",
        "    Function to carry out part 3.(Please use the appropriate utitlity function(s) as required.)\n",
        "    You should be carrying out the following steps(Similar to part 2):\n",
        "    1) Load the graphs.\n",
        "    2) Run Q3 Simulations(for details please refer to the question) and find the vote difference(A-B) for each k\n",
        "    3) Find the minimum amount needed for 'A' to win the election.\n",
        "    4) Plot $k (the amount you spend) on the x-axis (for values k =\n",
        "       1000; 2000; : : : ; 9000) and the number of votes for A minus the number of votes for B on the y-axis.\n",
        "    \"\"\"\n",
        "    print (\"\\nQ3:\")\n",
        "    Ks = [x * 1000 for x in range(1, 10)] # List of amount of $ spent\n",
        "    ### Add your code here.[2 Points]\n",
        "    res=[]\n",
        "    graph1=read_graph('graph1.txt')\n",
        "    kdiff=[]\n",
        "    for k in Ks:\n",
        "      diff=Q3sim(graph1, k)\n",
        "      kdiff.append((k, diff))\n",
        "    res.append(kdiff)\n",
        "    graph2=read_graph('graph2.txt')\n",
        "    kdiff=[]\n",
        "    for k in Ks:\n",
        "      diff=Q3sim(graph2, k)\n",
        "      kdiff.append((k, diff))\n",
        "    res.append(kdiff)\n",
        "    min_k=[find_min_k(kdiff) for kdiff in res]    \n",
        "    ########################\n",
        "    for i in range(2):\n",
        "        print(\"On graph {0}, the minimum amount you can spend to win is {1}\".format(i + 1, min_k[i]))\n",
        "\n",
        "    make_plot(res, 'Wining and Dining')"
      ],
      "execution_count": 0,
      "outputs": []
    },
    {
      "cell_type": "markdown",
      "metadata": {
        "colab_type": "text",
        "id": "5a1sKiZD_crB"
      },
      "source": [
        "## 4. Analysis[6 Points]"
      ]
    },
    {
      "cell_type": "code",
      "metadata": {
        "colab_type": "code",
        "id": "GKkX5-twxE9M",
        "colab": {}
      },
      "source": [
        "#Q4\n",
        "def get_degree_frequencies(Graph):\n",
        "    \"\"\" Function to return all distinct degree values and frequencies of those degree values(fractional)\n",
        "\n",
        "    Args: Graph: snap.PUNGraph object representing an undirected graph\n",
        "    Returns: degrees: List of degrees(no duplication)\n",
        "             frequencies: List of frequencies: frequencies[i] = fraction of nodes with degree degrees[i]\n",
        "    \"\"\"\n",
        "    \n",
        "    degrees, frequencies = [], []\n",
        "    ### Add your code here.[3 Points]\n",
        "    ids, degs = sort_nodes_by_popularity(Graph)\n",
        "    deg = degs[0]+1\n",
        "    for d in degs:\n",
        "      if d!=deg:\n",
        "        degrees.append(d)\n",
        "        frequencies.append(1)\n",
        "        deg=d \n",
        "      else:\n",
        "        frequencies[-1]+=1\n",
        "    ########################\n",
        "    return degrees, frequencies\n",
        "\n",
        "def Q4():\n",
        "    \"\"\"\n",
        "    Function to plot the distributions of two given graphs on a log-log scale.\n",
        "    You should be carrying out the following steps:\n",
        "    1) Load the graphs.\n",
        "    2) Get degrees(sorted) and the corresponding frequencies and plot them(loglog plot) for both the graphs.\n",
        "    Note: For Graph 1 use green color and label it as 'Graph1' and for graph2 use red color and label it as 'Graph2'\n",
        "\n",
        "    \"\"\"\n",
        "    print (\"\\nQ4:\")\n",
        "    ### Add your code here.[3 Points]\n",
        "    graph1=read_graph('graph1.txt')\n",
        "    deg1, freq1=get_degree_frequencies(graph1)\n",
        "    graph2=read_graph('graph2.txt')\n",
        "    deg2, freq2=get_degree_frequencies(graph2) \n",
        "    plt.plot(deg1, freq1, color='green', label='Graph1')   \n",
        "    plt.plot(deg2, freq2, color='red', label='Graph2')\n",
        "    plt.xscale('log')\n",
        "    plt.yscale('log')\n",
        "    ###########################################################################\n",
        "    plt.xlabel('Node Degree (log)')\n",
        "    plt.ylabel('Proportion of Nodes with a Given Degree (log)')\n",
        "    plt.title('Degree Distribution for Graphs 1 and 2')\n",
        "    plt.legend()"
      ],
      "execution_count": 0,
      "outputs": []
    },
    {
      "cell_type": "code",
      "metadata": {
        "colab_type": "code",
        "id": "Al8stt4hK2jy",
        "colab": {}
      },
      "source": [
        "def driver():\n",
        "    Q1()\n",
        "    Q2()\n",
        "    Q3()\n",
        "    Q4()"
      ],
      "execution_count": 0,
      "outputs": []
    },
    {
      "cell_type": "code",
      "metadata": {
        "colab_type": "code",
        "id": "7OgvdujkK54y",
        "colab": {
          "base_uri": "https://localhost:8080/",
          "height": 1000
        },
        "outputId": "bf3e9f2d-e5f4-46db-c8fe-6fa5136ba377"
      },
      "source": [
        "driver()"
      ],
      "execution_count": 10,
      "outputs": [
        {
          "output_type": "stream",
          "text": [
            "\n",
            "Q1:\n",
            "In graph 1, candidate B wins by 96 votes\n",
            "In graph 2, candidate B wins by 256 votes\n",
            "\n",
            "Q2:\n",
            "On graph 1, the minimum amount you can spend to win is 5000\n",
            "On graph 2, the minimum amount you can spend to win is 7000\n"
          ],
          "name": "stdout"
        },
        {
          "output_type": "display_data",
          "data": {
            "image/png": "[encoded data removed]",
            "text/plain": [
              "<Figure size 432x288 with 1 Axes>"
            ]
          },
          "metadata": {
            "tags": []
          }
        },
        {
          "output_type": "stream",
          "text": [
            "\n",
            "Q3:\n",
            "On graph 1, the minimum amount you can spend to win is None\n",
            "On graph 2, the minimum amount you can spend to win is 6000\n"
          ],
          "name": "stdout"
        },
        {
          "output_type": "display_data",
          "data": {
            "image/png": "[encoded data removed]",
            "text/plain": [
              "<Figure size 432x288 with 1 Axes>"
            ]
          },
          "metadata": {
            "tags": []
          }
        },
        {
          "output_type": "stream",
          "text": [
            "\n",
            "Q4:\n"
          ],
          "name": "stdout"
        },
        {
          "output_type": "display_data",
          "data": {
            "image/png": "[encoded data removed]",
            "text/plain": [
              "<Figure size 432x288 with 1 Axes>"
            ]
          },
          "metadata": {
            "tags": []
          }
        }
      ]
    },
    {
      "cell_type": "markdown",
      "metadata": {
        "id": "8jH6_rSDYZjJ",
        "colab_type": "text"
      },
      "source": [
        "##Although both graphs have roughly the same number of edges, degree distributions are actually very different. In 1–2 sentences, briefly summarize how this difference explains the results of Question 1.3.\n",
        "\n",
        "The key difference between the two outreach strategies is that, TV advetisement aims to target a larger audience without specifically targetting the popular ones whilst Wining and Dining strategy aims to reach more people by targetting specifically the most popular people. Going by our analysis in section 4, Graph 2 is a typical example of our social gaph where a very few people have huge outreach and most people have very few outreach. In cases like these, reaching out to the \"top of the ladder\" folks works better, hence wining and Dining strategy works best here. Using TV medium is best for a graph 1 scenario, where many people have moderately high reach. This trend is clearly represented in the comparison plots in section 2 and 3.  "
      ]
    },
    {
      "cell_type": "markdown",
      "metadata": {
        "colab_type": "text",
        "id": "Cp3L0MMS5bmJ"
      },
      "source": [
        "## Deliverables"
      ]
    },
    {
      "cell_type": "markdown",
      "metadata": {
        "colab_type": "text",
        "id": "h7bDopNw5ghr"
      },
      "source": [
        "Run your solved template(make sure all cell outputs are printed as required), convert it into pdf format, rename it to {gt_username}_hw3_q1_cse6240.pdf(e.g. pburdell3_hw3_q1_cse6240.pdf) Add both the .ipynb and .pdf file to the folder {gt_username}_hw3_cse6240, zip it and submit on canvas .[-5 if any instruction is not follwed properly]\n",
        "\n",
        "{gt_username}_hw3_cse6240 >\n",
        "1.   {gt_username}_hw3_q1_cse6240.ipynb\n",
        "2.   {gt_username}_hw3_q1_cse6240.pdf\n",
        "\n"
      ]
    }
  ]
}