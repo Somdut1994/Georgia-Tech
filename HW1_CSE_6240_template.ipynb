{
  "nbformat": 4,
  "nbformat_minor": 0,
  "metadata": {
    "colab": {
      "name": "HW1_CSE_6240_template.ipynb",
      "provenance": [],
      "collapsed_sections": [],
      "toc_visible": true
    },
    "kernelspec": {
      "display_name": "Python 3",
      "language": "python",
      "name": "python3"
    },
    "language_info": {
      "codemirror_mode": {
        "name": "ipython",
        "version": 3
      },
      "file_extension": ".py",
      "mimetype": "text/x-python",
      "name": "python",
      "nbconvert_exporter": "python",
      "pygments_lexer": "ipython3",
      "version": "3.7.4"
    }
  },
  "cells": [
    {
      "cell_type": "markdown",
      "metadata": {
        "colab_type": "text",
        "id": "fi_VO8r3R1TT"
      },
      "source": [
        "# Analyzing A Movie Review Dataset[100 Points]"
      ]
    },
    {
      "cell_type": "markdown",
      "metadata": {
        "colab_type": "text",
        "id": "gd1nFWBCP7GC"
      },
      "source": [
        "## 0. Text Preprocessing [10 Points]"
      ]
    },
    {
      "cell_type": "markdown",
      "metadata": {
        "colab_type": "text",
        "id": "gaeN3k-w_ygu"
      },
      "source": [
        "Read through this tutorial on kaggle [here](\n",
        "https://www.kaggle.com/c/word2vec-nlp-tutorial/details/part-1-for-beginners-bag-of-words) , to\n",
        "familiarize yourself with its python tools and workflow. You'll have to download \"labeledTrainData.tsv\" and \"testData.tsv\" from [here](https://www.kaggle.com/c/word2vec-nlp-tutorial/data). Please remember to add your GT_UserName in the author function below."
      ]
    },
    {
      "cell_type": "code",
      "metadata": {
        "colab_type": "code",
        "id": "IZAcFI1WbCc4",
        "outputId": "9a5a4fef-1eaf-4e4b-f5c7-7fcae9e608c8",
        "colab": {
          "base_uri": "https://localhost:8080/",
          "height": 34
        }
      },
      "source": [
        "def author(gt_username = 'pburdell3'):\n",
        "    print(\"This assignment is submitted by {0}.\".format(gt_username))\n",
        "\n",
        "#Add your GT_UserName below and uncomment the line.\n",
        "author('sroy86')\n"
      ],
      "execution_count": 1,
      "outputs": [
        {
          "output_type": "stream",
          "text": [
            "This assignment is submitted by sroy86.\n"
          ],
          "name": "stdout"
        }
      ]
    },
    {
      "cell_type": "code",
      "metadata": {
        "colab_type": "code",
        "id": "UIpeJ8VmR1TX",
        "colab": {}
      },
      "source": [
        "#Import the necessary libraries\n",
        "import pandas as pd\n",
        "import numpy as np\n",
        "import scipy as sp\n",
        "import re\n",
        "import nltk\n",
        "from bs4 import BeautifulSoup\n",
        "from nltk.corpus import stopwords\n",
        "from copy import deepcopy\n",
        "from sklearn.feature_extraction.text import CountVectorizer\n",
        "from sklearn.feature_extraction.text import TfidfTransformer\n",
        "from sklearn.metrics.pairwise import pairwise_distances"
      ],
      "execution_count": 0,
      "outputs": []
    },
    {
      "cell_type": "code",
      "metadata": {
        "colab_type": "code",
        "id": "CIvs0LVJR1Te",
        "colab": {}
      },
      "source": [
        "# Reading in the data\n",
        "train = pd.read_csv(\"labeledTrainData.tsv\", delimiter=\"\\t\")\n",
        "test = pd.read_csv(\"testData.tsv\", delimiter=\"\\t\")"
      ],
      "execution_count": 0,
      "outputs": []
    },
    {
      "cell_type": "code",
      "metadata": {
        "colab_type": "code",
        "id": "Ano1yq7oR1Th",
        "colab": {}
      },
      "source": [
        "def preprocess_review(review):\n",
        "    \"\"\"Helper function to clean the reviews.\n",
        "\n",
        "     Arg: review: review text.\n",
        "     Returns: clean_review : Cleaned reviews\n",
        "\n",
        "     You should carry out the following steps.\n",
        "     1. Remove HTML Tags.\n",
        "     2. Remove non-letter characters.\n",
        "     3. Convert to lower case.\n",
        "     4. Remove stopwords.\n",
        "    \"\"\"\n",
        "\n",
        "    #Write your code below.\n",
        "    \n",
        "    ## HTML Tags removal\n",
        "    clean1=BeautifulSoup(review)  \n",
        "    \n",
        "    ## Non-letter characters removal\n",
        "    clean2=re.sub(\"[^a-zA-Z]\", \" \", clean1.get_text()) \n",
        "    \n",
        "    ## Converting to lower case and splitting each word\n",
        "    clean3=clean2.lower().split()\n",
        "    \n",
        "    ## Removing stopwords\n",
        "    stops = set(stopwords.words(\"english\"))\n",
        "    clean4=[w for w in clean3 if not w in stops]\n",
        "    \n",
        "    ## Returning the reviews with spaces between words\n",
        "    clean_review=\" \".join(clean4)\n",
        "\n",
        "    \n",
        "    return clean_review\n"
      ],
      "execution_count": 0,
      "outputs": []
    },
    {
      "cell_type": "code",
      "metadata": {
        "colab_type": "code",
        "id": "FJERbiU0R1Tj",
        "outputId": "874ab537-823f-4622-d9fd-d32ca8d86043",
        "colab": {
          "base_uri": "https://localhost:8080/",
          "height": 51
        }
      },
      "source": [
        "#Clean the reviews and add them to the list below\n",
        "cleaned_reviews = []\n",
        "nltk.download('stopwords')\n",
        "\n",
        "#Write your code below.\n",
        "num_reviews = train[\"review\"].size\n",
        "for i in range(0, num_reviews):\n",
        "    cr=preprocess_review(train[\"review\"][i])\n",
        "    cleaned_reviews.append(cr)"
      ],
      "execution_count": 5,
      "outputs": [
        {
          "output_type": "stream",
          "text": [
            "[nltk_data] Downloading package stopwords to /root/nltk_data...\n",
            "[nltk_data]   Unzipping corpora/stopwords.zip.\n"
          ],
          "name": "stdout"
        }
      ]
    },
    {
      "cell_type": "markdown",
      "metadata": {
        "colab_type": "text",
        "id": "dIq31H_fR1Tm"
      },
      "source": [
        "## 1. Processing Text to create Design Matrices [15 Points]"
      ]
    },
    {
      "cell_type": "code",
      "metadata": {
        "colab_type": "code",
        "id": "urCR0VMaR1Tn",
        "colab": {}
      },
      "source": [
        "def design_matrix(cleaned_reviews):\n",
        "    \"\"\" Generate the 4 design matrices X_counts, X_binary, X_tfidf, X_binary_imbalance.\n",
        "\n",
        "      Args: cleaned_reviews: Cleaned Reviews.\n",
        "      Returns:\n",
        "            X_counts: Design Matrix X_counts.\n",
        "            X_binary: Design Matrix X_binary(Use the X_counts to generate this.)\n",
        "            X_tfidf:  Design Matrix X_tfidf\n",
        "            X_binary_imbalance: Design Matrix X_binary_imbalance(use fraction 0.75)\n",
        "            imbalance_train: Skewed training set(use fraction 0.75)\n",
        "\n",
        "\n",
        "\n",
        "\n",
        "    \"\"\"\n",
        "\n",
        "    #Write your code here.\n",
        "  \n",
        "    vectorizer = CountVectorizer(analyzer = \"word\",   \\\n",
        "                                tokenizer = None,    \\\n",
        "                                preprocessor = None, \\\n",
        "                                stop_words = None,   \\\n",
        "                                max_features = 5000) \n",
        "\n",
        "    train_data_features = vectorizer.fit_transform(cleaned_reviews)\n",
        "\n",
        "    X_counts = train_data_features.toarray()\n",
        "\n",
        "    X_binary=X_counts\n",
        "\n",
        "    X_binary[X_binary>0]=1\n",
        "\n",
        "    transformer = TfidfTransformer()\n",
        "\n",
        "    X_tfidf = transformer.fit_transform(X_counts).toarray()\n",
        "\n",
        "    a=X_binary.tolist()\n",
        "\n",
        "    train['binary']=['-'.join([str(x) for x in my_list]) for my_list in a]\n",
        "\n",
        "    train_imbalance_df = train.drop(train.query('sentiment == 1').sample(frac=0.75, random_state=0).index)\n",
        "\n",
        "    X_binary_imbalance_list = list(train_imbalance_df['binary'])\n",
        "\n",
        "    X_binary_imbalance = np.array([[int(j) for j in i.split('-')] for i in X_binary_imbalance_list])\n",
        "\n",
        "    imbalance_train = train_imbalance_df[['id', 'sentiment', 'review']]\n",
        "    \n",
        "\n",
        "    return X_counts,X_binary,X_tfidf,X_binary_imbalance,imbalance_train"
      ],
      "execution_count": 0,
      "outputs": []
    },
    {
      "cell_type": "code",
      "metadata": {
        "colab_type": "code",
        "id": "POPvMtKER1Tp",
        "outputId": "acfd4abf-31da-489c-b0df-c2e7f8764b28",
        "colab": {
          "base_uri": "https://localhost:8080/",
          "height": 136
        }
      },
      "source": [
        "X_counts,X_binary,X_tfidf,X_binary_imbalance,imbalance_train = design_matrix(cleaned_reviews) \n",
        "X_counts"
      ],
      "execution_count": 7,
      "outputs": [
        {
          "output_type": "execute_result",
          "data": {
            "text/plain": [
              "array([[0, 0, 0, ..., 0, 0, 0],\n",
              "       [0, 0, 0, ..., 0, 0, 0],\n",
              "       [0, 0, 0, ..., 0, 0, 0],\n",
              "       ...,\n",
              "       [0, 0, 0, ..., 0, 0, 0],\n",
              "       [0, 0, 0, ..., 0, 0, 0],\n",
              "       [0, 0, 0, ..., 0, 0, 0]])"
            ]
          },
          "metadata": {
            "tags": []
          },
          "execution_count": 7
        }
      ]
    },
    {
      "cell_type": "code",
      "metadata": {
        "colab_type": "code",
        "id": "5kt4EPPLR1Tx",
        "outputId": "70f2f1ca-c502-48a7-c480-bf04303987dd",
        "colab": {
          "base_uri": "https://localhost:8080/",
          "height": 136
        }
      },
      "source": [
        "X_binary"
      ],
      "execution_count": 8,
      "outputs": [
        {
          "output_type": "execute_result",
          "data": {
            "text/plain": [
              "array([[0, 0, 0, ..., 0, 0, 0],\n",
              "       [0, 0, 0, ..., 0, 0, 0],\n",
              "       [0, 0, 0, ..., 0, 0, 0],\n",
              "       ...,\n",
              "       [0, 0, 0, ..., 0, 0, 0],\n",
              "       [0, 0, 0, ..., 0, 0, 0],\n",
              "       [0, 0, 0, ..., 0, 0, 0]])"
            ]
          },
          "metadata": {
            "tags": []
          },
          "execution_count": 8
        }
      ]
    },
    {
      "cell_type": "code",
      "metadata": {
        "colab_type": "code",
        "id": "xBH1DKHuR1T1",
        "outputId": "0079b6e1-25d9-47de-cf09-b85664b25794",
        "colab": {
          "base_uri": "https://localhost:8080/",
          "height": 136
        }
      },
      "source": [
        "X_tfidf"
      ],
      "execution_count": 9,
      "outputs": [
        {
          "output_type": "execute_result",
          "data": {
            "text/plain": [
              "array([[0., 0., 0., ..., 0., 0., 0.],\n",
              "       [0., 0., 0., ..., 0., 0., 0.],\n",
              "       [0., 0., 0., ..., 0., 0., 0.],\n",
              "       ...,\n",
              "       [0., 0., 0., ..., 0., 0., 0.],\n",
              "       [0., 0., 0., ..., 0., 0., 0.],\n",
              "       [0., 0., 0., ..., 0., 0., 0.]])"
            ]
          },
          "metadata": {
            "tags": []
          },
          "execution_count": 9
        }
      ]
    },
    {
      "cell_type": "code",
      "metadata": {
        "colab_type": "code",
        "id": "hcHBxl31R1T7",
        "outputId": "9ab6b317-dd5f-4091-d4ea-1e848057b4e4",
        "colab": {
          "base_uri": "https://localhost:8080/",
          "height": 136
        }
      },
      "source": [
        "X_binary_imbalance"
      ],
      "execution_count": 10,
      "outputs": [
        {
          "output_type": "execute_result",
          "data": {
            "text/plain": [
              "array([[0, 0, 0, ..., 0, 0, 0],\n",
              "       [0, 0, 0, ..., 0, 0, 0],\n",
              "       [0, 0, 0, ..., 0, 0, 0],\n",
              "       ...,\n",
              "       [0, 0, 0, ..., 0, 0, 0],\n",
              "       [0, 0, 0, ..., 0, 0, 0],\n",
              "       [0, 0, 0, ..., 0, 0, 0]])"
            ]
          },
          "metadata": {
            "tags": []
          },
          "execution_count": 10
        }
      ]
    },
    {
      "cell_type": "markdown",
      "metadata": {
        "colab_type": "text",
        "id": "F5s2xUvMR1T-"
      },
      "source": [
        "## 2. Feature Space Similarity Experiment [25(5 + 5 + 15) Points]"
      ]
    },
    {
      "cell_type": "code",
      "metadata": {
        "colab_type": "code",
        "id": "LRPAXIfDR1T_",
        "colab": {}
      },
      "source": [
        "# Obtain the label on the original train set and imbalance train set\n",
        "train_sentiment = train[\"sentiment\"].values\n",
        "imbalance_train_sentiment = imbalance_train[\"sentiment\"].values"
      ],
      "execution_count": 0,
      "outputs": []
    },
    {
      "cell_type": "code",
      "metadata": {
        "colab_type": "code",
        "id": "rgK6cWOKUhIJ",
        "colab": {}
      },
      "source": [
        "def dist(X, i, j, distance_function = \"euclidean\"):\n",
        "    \"\"\"The distance function returns the (Euclidean) distance between rows i and j of a design matrix.\n",
        "     Args: X : Design Matrix\n",
        "           i,j: row IDs\n",
        "           distance_function: The distance function to be used. Here we are using euclidean\n",
        "     Returns: The distance between row i and row j.\n",
        "  \n",
        "    \"\"\"\n",
        "    #Write your code here.\n",
        "    distance=np.linalg.norm(X[i,:]-X[j,:])\n",
        "\n",
        "    return distance"
      ],
      "execution_count": 0,
      "outputs": []
    },
    {
      "cell_type": "code",
      "metadata": {
        "colab_type": "code",
        "id": "cWvROZUqUnvJ",
        "colab": {}
      },
      "source": [
        "def topk(X, k):\n",
        "    \"\"\"The topk(X, k) function returns ((i1,j1,d1),...(ik,jk,dk)) where (ix,jx) are the indices of the xth \n",
        "     closest pair, and dx is the corresponding distance. You can break ties randomly.\n",
        "     Args: X : Design Matrix\n",
        "           k:  Top k\n",
        "     Returns: top: A list of [row,col,distance]\n",
        "  \n",
        "    \"\"\"\n",
        "   \n",
        "    #Write your code here.\n",
        "    maxdist=0\n",
        "    toplist=[]\n",
        "    Xsize=X.shape[0]\n",
        "    flag=0\n",
        "    for i in range(Xsize):\n",
        "        for j in range(i+1, Xsize):\n",
        "            Dist=dist(X, i, j)\n",
        "            if len(toplist)<k:\n",
        "                toplist.append([i, j, Dist])\n",
        "                toplist.sort(key = lambda x: x[2])\n",
        "                maxdist=toplist[-1][2]\n",
        "            elif Dist<maxdist or (Dist==maxdist and np.random.uniform()>0.5):\n",
        "                toplist.pop()\n",
        "                toplist.append([i, j, Dist])\n",
        "                toplist.sort(key = lambda x: x[2])\n",
        "                maxdist=toplist[-1][2] \n",
        "            if maxdist==0 and len(toplist)==k:\n",
        "                flag=-1\n",
        "                break\n",
        "        if flag==-1:\n",
        "            break\n",
        "\n",
        "    top = tuple([tuple(i) for i in toplist])\n",
        "      \n",
        "    return top"
      ],
      "execution_count": 0,
      "outputs": []
    },
    {
      "cell_type": "markdown",
      "metadata": {
        "colab_type": "text",
        "id": "z6QQdWA7BmMZ"
      },
      "source": [
        "Use topk() to find the closest review pairs for each design matrix and print the following: the indices of the reviews, the distance, the first 20 characters of each review, the labels for each review."
      ]
    },
    {
      "cell_type": "code",
      "metadata": {
        "colab_type": "code",
        "id": "L-pJSPn0a3NA",
        "outputId": "24304084-34ad-447a-dd7e-c224e5445710",
        "colab": {
          "base_uri": "https://localhost:8080/",
          "height": 68
        }
      },
      "source": [
        "# compute top k for X_counts matrix and print the following: the indices of the reviews, the distance, the first 20 characters of each review, the labels for each review.\n",
        "#Write your code here.\n",
        "i, j, Dist=topk(X_counts, 1)[0]\n",
        "print('Minimum inter-row distance:', Dist)\n",
        "print('index_1:', i, '; review20_1:', train['review'][i][:20], '; label_1:', train['sentiment'][i])\n",
        "print('index_2:', j, '; review20_2:', train['review'][j][:20], '; label_2:', train['sentiment'][j])"
      ],
      "execution_count": 14,
      "outputs": [
        {
          "output_type": "stream",
          "text": [
            "Minimum inter-row distance: 0.0\n",
            "index_1: 37 ; review20_1: Dumb is as dumb does ; label_1: 0\n",
            "index_2: 5536 ; review20_2: Dumb is as dumb does ; label_2: 0\n"
          ],
          "name": "stdout"
        }
      ]
    },
    {
      "cell_type": "code",
      "metadata": {
        "colab_type": "code",
        "id": "TkvjeJMTaFTS",
        "outputId": "ca7a3840-18b4-4620-9462-1e306fad2eac",
        "colab": {
          "base_uri": "https://localhost:8080/",
          "height": 68
        }
      },
      "source": [
        "# compute top k for X_binary matrix and print the following: the indices of the reviews, the distance, the first 20 characters of each review, the labels for each review.\n",
        "#Write your code here.\n",
        "i, j, Dist=topk(X_binary, 1)[0]\n",
        "print('Minimum inter-row distance:', Dist)\n",
        "print('index_1:', i, '; review20_1:', train['review'][i][:20], '; label_1:', train['sentiment'][i])\n",
        "print('index_2:', j, '; review20_2:', train['review'][j][:20], '; label_2:', train['sentiment'][j])\n"
      ],
      "execution_count": 15,
      "outputs": [
        {
          "output_type": "stream",
          "text": [
            "Minimum inter-row distance: 0.0\n",
            "index_1: 37 ; review20_1: Dumb is as dumb does ; label_1: 0\n",
            "index_2: 5536 ; review20_2: Dumb is as dumb does ; label_2: 0\n"
          ],
          "name": "stdout"
        }
      ]
    },
    {
      "cell_type": "code",
      "metadata": {
        "colab_type": "code",
        "id": "OITNkuZUaOu_",
        "outputId": "9b10d948-33c8-4c2e-e0d3-ad2d6b448803",
        "colab": {
          "base_uri": "https://localhost:8080/",
          "height": 68
        }
      },
      "source": [
        "# compute top k for X_tfidf matrix and print the following: the indices of the reviews, the distance, the first 20 characters of each review, the labels for each review.\n",
        "#Write your code here.\n",
        "i, j, Dist=topk(X_tfidf, 1)[0]\n",
        "print('Minimum inter-row distance:', Dist)\n",
        "print('index_1:', i, '; review20_1:', train['review'][i][:20], '; label_1:', train['sentiment'][i])\n",
        "print('index_2:', j, '; review20_2:', train['review'][j][:20], '; label_2:', train['sentiment'][j])\n"
      ],
      "execution_count": 16,
      "outputs": [
        {
          "output_type": "stream",
          "text": [
            "Minimum inter-row distance: 0.0\n",
            "index_1: 37 ; review20_1: Dumb is as dumb does ; label_1: 0\n",
            "index_2: 5536 ; review20_2: Dumb is as dumb does ; label_2: 0\n"
          ],
          "name": "stdout"
        }
      ]
    },
    {
      "cell_type": "code",
      "metadata": {
        "colab_type": "code",
        "id": "ckNqY0ZbaU-z",
        "outputId": "161aec1a-af37-4a14-9d7b-23479ad268c2",
        "colab": {
          "base_uri": "https://localhost:8080/",
          "height": 68
        }
      },
      "source": [
        "# compute top k for X_binary_imbalance matrix and print the following: the indices of the reviews, the distance, the first 20 characters of each review, the labels for each review.\n",
        "#Write your code here.\n",
        "retained_rows=list(imbalance_train.index)\n",
        "i, j, Dist=topk(X_binary_imbalance, 1)[0]\n",
        "i, j=retained_rows[i], retained_rows[j]\n",
        "print('Minimum inter-row distance:', Dist)\n",
        "print('index_1:', i, '; review20_1:', train['review'][i][:20], '; label_1:', train['sentiment'][i])\n",
        "print('index_2:', j, '; review20_2:', train['review'][j][:20], '; label_2:', train['sentiment'][j])"
      ],
      "execution_count": 17,
      "outputs": [
        {
          "output_type": "stream",
          "text": [
            "Minimum inter-row distance: 0.0\n",
            "index_1: 37 ; review20_1: Dumb is as dumb does ; label_1: 0\n",
            "index_2: 5536 ; review20_2: Dumb is as dumb does ; label_2: 0\n"
          ],
          "name": "stdout"
        }
      ]
    },
    {
      "cell_type": "markdown",
      "metadata": {
        "colab_type": "text",
        "id": "ESA7ElrMbHEw"
      },
      "source": [
        "Are the pairs always the same?\n",
        "\n",
        "No, there are data points with similar reviews, so there are multiple instances of zero-distance. Due to computational limitations, we break away from the distance comparision code whenever we see the maximum distance in the list is zero since we know we could not get a sub-zero distance between two points. \n",
        "\n",
        "Just like 37-5536 pair has shown to have same review, we actually encounter similar other identical pairs like 326-7336, 428-14579, 531-9467, etc.\n",
        "\n",
        "So, whether we come up with the same pair or not will depend on how we break tie for those zero-distance instances."
      ]
    },
    {
      "cell_type": "markdown",
      "metadata": {
        "colab_type": "text",
        "id": "yywNrWhlbQ10"
      },
      "source": [
        "## 3. Classification Experiment [35 Points]"
      ]
    },
    {
      "cell_type": "markdown",
      "metadata": {
        "colab_type": "text",
        "id": "Mo8UaxPjCr9Q"
      },
      "source": [
        "Now you’re going to tune an SVM classifier using each design matrix, and measure the\n",
        "resultant performance. Read the sklearn [docs](http://scikit-learn.org/stable/modules/cross_validation.html) on cross-validation to see the\n",
        "methods to use.\n",
        "*   Set your rng seed to 0 and create an initial learning_set / test_set split of 80-20.\n",
        "*   Now we want to use a linear SVM (svm.SVC with kernel=linear) and pick the best C value for our classifier.\n",
        "*   Repeat for each of the four design matrices:\n",
        "  *  Repeat 30 times:\n",
        "    *  Pick a random value of C uniformly in the interval (1e-4, 1e4).\n",
        "    *  Use 5-fold cross-validation to train the SVM.\n",
        "    *  Estimate and record the F1-Score.\n",
        "  *  Select the value of C which produced the best F1-Score and find out the F1-Score on the test set using that C.\n",
        "  *  Retrain the classifier using the entire learning set with this C value.\n",
        "  *  Submit test set predictions to Kaggle (see the section in the blog, and\n",
        "make sure you use their test data. You may need to retrain one more\n",
        "time using all “training data”). Print your Kaggle score."
      ]
    },
    {
      "cell_type": "code",
      "metadata": {
        "colab_type": "code",
        "id": "t9La4ICibWl6",
        "colab": {}
      },
      "source": [
        "import matplotlib.pyplot as plt\n",
        "import random as rd\n",
        "\n",
        "from sklearn import svm\n",
        "from sklearn.metrics import f1_score\n",
        "from sklearn.model_selection import train_test_split, KFold"
      ],
      "execution_count": 0,
      "outputs": []
    },
    {
      "cell_type": "markdown",
      "metadata": {
        "colab_type": "text",
        "id": "CD98GcZ9jJ2b"
      },
      "source": [
        "### 3.1 Utility Functions [10 (5 + 5) Points]"
      ]
    },
    {
      "cell_type": "code",
      "metadata": {
        "colab_type": "code",
        "id": "N9K2mD7pe9Bc",
        "colab": {}
      },
      "source": [
        "import time\n",
        "from warnings import filterwarnings\n",
        "filterwarnings('ignore')\n",
        "\n",
        "def calculateF1(X, y, k = 5):\n",
        "    \"\"\"calculateF1(X, y, k = 5) return two list which record all randomly selected c(in the interval (1e-4, 1e4))\n",
        "     and corresponding F1 scores.\n",
        "\n",
        "     Args: X: Features\n",
        "           y: Label of sentiment\n",
        "           k: Number of Cross-validation\n",
        "\n",
        "     Returns: c_list: List of all c values.\n",
        "              f1_list: Corresponding F1 Scores.\n",
        "    \"\"\"\n",
        "    rd.seed(0) #Setting a common seed\n",
        "\n",
        "    #Write your code here.\n",
        "    start=time.time()\n",
        "    c_list=[10**i for i in np.random.uniform(-4, 4, 30)]\n",
        "    f1_list=[]\n",
        "    kf = KFold(n_splits=k)\n",
        "    print('itr# Time')\n",
        "    i=0\n",
        "    for c in c_list:\n",
        "        f1score=0.0\n",
        "        i+=1\n",
        "        for train_index, test_index in kf.split(X):\n",
        "            X_train, X_test = X[train_index], X[test_index]\n",
        "            y_train, y_test = y[train_index], y[test_index]\n",
        "            clf = svm.LinearSVC(C=c, max_iter=10000)\n",
        "            clf = clf.fit(X_train, y_train)\n",
        "            y_pred_test = clf.predict(X_test)\n",
        "            f1score+=f1_score(y_test, y_pred_test)/float(k)\n",
        "        f1_list.append(f1score)\n",
        "        if i%5==0:\n",
        "            print(i, time.time()-start)        \n",
        "        \n",
        "    return c_list, f1_list"
      ],
      "execution_count": 0,
      "outputs": []
    },
    {
      "cell_type": "code",
      "metadata": {
        "colab_type": "code",
        "id": "Ah82TDqCgKaN",
        "colab": {}
      },
      "source": [
        "def findBestC(X, y, k = 5):\n",
        "    \"\"\"findBestC(X, y, k) return the best performance c, and the improvement(difference between best and worst f1_scores)/\n",
        "     Args: X: Features\n",
        "           y: Label of sentiment\n",
        "           k: Number of Cross-validation\n",
        "     Returns: c_best: C value with best f1_score.\n",
        "              improvement: difference between best and worst f1_score.\n",
        "    \"\"\"\n",
        "    #Write your code here. \n",
        "    c_list, f1_list = calculateF1(X, y, k)\n",
        "    f1max = max(f1_list)\n",
        "    c_best = c_list[f1_list.index(f1max)]\n",
        "    improvement = f1max - min(f1_list)\n",
        "    return c_best,improvement"
      ],
      "execution_count": 0,
      "outputs": []
    },
    {
      "cell_type": "markdown",
      "metadata": {
        "colab_type": "text",
        "id": "aAMZU6YBjUVU"
      },
      "source": [
        "### 3.2 Tune an SVM classifier using X_counts [20 (4*5) Points]"
      ]
    },
    {
      "cell_type": "markdown",
      "metadata": {
        "colab_type": "text",
        "id": "IVatM_PprZpC"
      },
      "source": [
        "#### 3.2.0 Utility Function"
      ]
    },
    {
      "cell_type": "code",
      "metadata": {
        "colab_type": "code",
        "id": "AFjJKZKelYl5",
        "colab": {}
      },
      "source": [
        "def findImprovement(X,train_sentiment,test_size = 0.2, random_state = 0):\n",
        "    \"\"\" Find the improvement in F1-Score of the design Matrix(X) using previous utility functions and the test_f1_score using the best C.\n",
        "\n",
        "      Args: X: Design Matrix\n",
        "            train_sentiment: Sentiments of the training data\n",
        "            test_size: Split it as 80:20\n",
        "            random_state: Seed\n",
        "\n",
        "      Returns:\n",
        "            c_best: The best possible c value\n",
        "            improvement: improvement in F1-Score using the design Matrix(X).\n",
        "            f1_s: Test F1 Score.\n",
        "            \n",
        "\n",
        "      You should carry out the following Steps:\n",
        "      1. Split the data using the above parameters.\n",
        "      2. Find out the best c and the improvement. (use 5-fold Cross Validation.)\n",
        "      3. Find out the test f1 score with this c.\n",
        "    \"\"\"\n",
        "    #Write your code here.\n",
        "    X_train, X_test, y_train, y_test = train_test_split(X, train_sentiment, test_size=test_size, random_state=random_state)\n",
        "    c_best, improvement = findBestC(X_train, y_train)\n",
        "    clf = svm.LinearSVC(C=c_best, max_iter=10000)\n",
        "    clf = clf.fit(X_train, y_train)\n",
        "    y_pred_test = clf.predict(X_test)\n",
        "    f1_s = f1_score(y_test, y_pred_test)   \n",
        "\n",
        "    return c_best,improvement,f1_s"
      ],
      "execution_count": 0,
      "outputs": []
    },
    {
      "cell_type": "markdown",
      "metadata": {
        "colab_type": "text",
        "id": "f90fpHRiq1IM"
      },
      "source": [
        "#### 3.2.1 Tune an SVM classifier using X_counts\n",
        "\n"
      ]
    },
    {
      "cell_type": "code",
      "metadata": {
        "colab_type": "code",
        "id": "vtON_6r5jgTL",
        "outputId": "93906a3e-acd4-419c-89d4-fc737483a308",
        "colab": {
          "base_uri": "https://localhost:8080/",
          "height": 153
        }
      },
      "source": [
        "#Print the improvement using X_counts and the test f1_score using the best c.\n",
        "#Write your code here.\n",
        "c_best,improvement,f1_s = findImprovement(X_counts,train_sentiment)\n",
        "print('best c:', c_best, '; improvement:', improvement, '; test f1_score:', f1_s)\n"
      ],
      "execution_count": 22,
      "outputs": [
        {
          "output_type": "stream",
          "text": [
            "itr# Time\n",
            "5 98.57039380073547\n",
            "10 292.7220823764801\n",
            "15 401.93008494377136\n",
            "20 519.6036071777344\n",
            "25 717.0939176082611\n",
            "30 931.5495858192444\n",
            "best c: 0.007510861577617194 ; improvement: 0.05637641720905007 ; test f1_score: 0.8729392842782469\n"
          ],
          "name": "stdout"
        }
      ]
    },
    {
      "cell_type": "code",
      "metadata": {
        "colab_type": "code",
        "id": "IygnGs8blBu-",
        "colab": {}
      },
      "source": [
        "# Retrain the classifier using the entire learning set with c_best\n",
        "#Write your code here.\n",
        "clf = svm.LinearSVC(C=c_best, max_iter=10000)\n",
        "clf = clf.fit(X_counts, train_sentiment)"
      ],
      "execution_count": 0,
      "outputs": []
    },
    {
      "cell_type": "markdown",
      "metadata": {
        "colab_type": "text",
        "id": "IunoAYI6pgZW"
      },
      "source": [
        "Submit test set predictions to Kaggle (see the section in the blog, and\n",
        "make sure you use their test data. You may need to retrain one more\n",
        "time using all “training data”). Print your Kaggle scores."
      ]
    },
    {
      "cell_type": "code",
      "metadata": {
        "colab_type": "code",
        "id": "9aRF1HA7lHAP",
        "outputId": "0a99e991-c9d6-4eab-b0e1-30859c5e64d4",
        "colab": {
          "base_uri": "https://localhost:8080/",
          "height": 34
        }
      },
      "source": [
        "#You should do the following steps.\n",
        "#1. Create bag of words from the test data.\n",
        "#2. Generate the labels using that test data.\n",
        "#3. Save the results to the pandas dataframe. For format check the blog.\n",
        "#4. Submit the results to Kaggle and add the scores here.\n",
        "\n",
        "# #Write your code here.\n",
        "cleaned_reviews_test = []\n",
        "\n",
        "#Write your code below.\n",
        "num_reviews = test[\"review\"].size\n",
        "for i in range(0, num_reviews):\n",
        "    cr=preprocess_review(test[\"review\"][i])\n",
        "    cleaned_reviews_test.append(cr)\n",
        "\n",
        "vectorizer = CountVectorizer(analyzer = \"word\",   \\\n",
        "                            tokenizer = None,    \\\n",
        "                            preprocessor = None, \\\n",
        "                            stop_words = None,   \\\n",
        "                            max_features = 5000) \n",
        "\n",
        "test_data_features = vectorizer.fit_transform(cleaned_reviews_test)\n",
        "\n",
        "X_counts_test = test_data_features.toarray()\n",
        "\n",
        "X_binary_test=X_counts_test\n",
        "\n",
        "X_binary_test[X_binary_test>0]=1\n",
        "\n",
        "transformer = TfidfTransformer()\n",
        "\n",
        "X_tfidf_test = transformer.fit_transform(X_counts_test).toarray()  \n",
        "\n",
        "test['sentiment'] = clf.predict(X_counts_test)\n",
        "\n",
        "test[['id', 'sentiment']].to_csv('counts_test.csv', encoding='utf-8', index=False)\n",
        "\n",
        "#Uncomment the below lines and add your score.\n",
        "X_counts_result = 0.55516\n",
        "print(\"The Kaggle Score using X_counts is {}\".format(X_counts_result))"
      ],
      "execution_count": 36,
      "outputs": [
        {
          "output_type": "stream",
          "text": [
            "The Kaggle Score using X_counts is 0.55516\n"
          ],
          "name": "stdout"
        }
      ]
    },
    {
      "cell_type": "markdown",
      "metadata": {
        "colab_type": "text",
        "id": "cYRrpQtvrAKF"
      },
      "source": [
        "#### 3.2.2 Tune an SVM classifier using X_binary"
      ]
    },
    {
      "cell_type": "code",
      "metadata": {
        "colab_type": "code",
        "id": "jVwbgdUJrD5h",
        "outputId": "775c6ae3-a4b6-45c6-cd64-95f81465db42",
        "colab": {
          "base_uri": "https://localhost:8080/",
          "height": 153
        }
      },
      "source": [
        "#Print the improvement using X_binary and the test f1_score using the best c.\n",
        "#Write your code here.\n",
        "c_best,improvement,f1_s = findImprovement(X_binary,train_sentiment)\n",
        "print('best c:', c_best, '; improvement:', improvement, '; test f1_score:', f1_s)"
      ],
      "execution_count": 25,
      "outputs": [
        {
          "output_type": "stream",
          "text": [
            "itr# Time\n",
            "5 139.28588390350342\n",
            "10 269.8989577293396\n",
            "15 342.65047121047974\n",
            "20 531.0666551589966\n",
            "25 703.6163303852081\n",
            "30 797.1101348400116\n",
            "best c: 0.0024125942153262587 ; improvement: 0.0582855521323693 ; test f1_score: 0.8740710986141796\n"
          ],
          "name": "stdout"
        }
      ]
    },
    {
      "cell_type": "code",
      "metadata": {
        "colab_type": "code",
        "id": "hI0KVsQjsGHa",
        "colab": {}
      },
      "source": [
        "# Retrain the classifier using the entire learning set with c_best\n",
        "#Write your code here.\n",
        "clf = svm.LinearSVC(C=c_best, max_iter=10000)\n",
        "clf = clf.fit(X_binary, train_sentiment)"
      ],
      "execution_count": 0,
      "outputs": []
    },
    {
      "cell_type": "code",
      "metadata": {
        "colab_type": "code",
        "id": "-zpgOR4NsdrP",
        "outputId": "8b680597-031d-4f30-9fcd-643fa437522c",
        "colab": {
          "base_uri": "https://localhost:8080/",
          "height": 34
        }
      },
      "source": [
        "#Use the the same steps as you did for X_counts and print the kaggle score. Please note that you need to find X_binary_test using the X_counts_test.\n",
        "#Write your code here.\n",
        "test['sentiment'] = clf.predict(X_binary_test)\n",
        "test[['id', 'sentiment']].to_csv('binary_test.csv', encoding='utf-8', index=False)\n",
        "\n",
        "#Uncomment the below lines and add your score.\n",
        "X_binary_result = 0.57084\n",
        "print(\"The Kaggle Score using X_binary is {}\".format(X_binary_result))"
      ],
      "execution_count": 37,
      "outputs": [
        {
          "output_type": "stream",
          "text": [
            "The Kaggle Score using X_binary is 0.57084\n"
          ],
          "name": "stdout"
        }
      ]
    },
    {
      "cell_type": "markdown",
      "metadata": {
        "colab_type": "text",
        "id": "sRHMJO2os_tc"
      },
      "source": [
        "#### 3.2.3 Tune an SVM classifier using X_tf_idf"
      ]
    },
    {
      "cell_type": "code",
      "metadata": {
        "colab_type": "code",
        "id": "xnm8PdFWtGE9",
        "outputId": "69076349-11bb-4283-9ac3-5a822b87455a",
        "colab": {
          "base_uri": "https://localhost:8080/",
          "height": 153
        }
      },
      "source": [
        "#Print the improvement using X_tf_idf and the test f1_score using the best c.\n",
        "#Write your code here.\n",
        "c_best,improvement,f1_s = findImprovement(X_tfidf, train_sentiment)\n",
        "print('best c:', c_best, '; improvement:', improvement, '; test f1_score:', f1_s)"
      ],
      "execution_count": 28,
      "outputs": [
        {
          "output_type": "stream",
          "text": [
            "itr# Time\n",
            "5 205.2684142589569\n",
            "10 346.64279985427856\n",
            "15 474.50623846054077\n",
            "20 499.06809258461\n",
            "25 527.1646299362183\n",
            "30 725.3782649040222\n",
            "best c: 0.21744406337194058 ; improvement: 0.06215956228267838 ; test f1_score: 0.8818200120797262\n"
          ],
          "name": "stdout"
        }
      ]
    },
    {
      "cell_type": "code",
      "metadata": {
        "colab_type": "code",
        "id": "KWXXKrgGtU-r",
        "colab": {}
      },
      "source": [
        "# Retrain svm using all X_tfidf data\n",
        "#Write your code here.\n",
        "clf = svm.LinearSVC(C=c_best, max_iter=10000)\n",
        "clf = clf.fit(X_tfidf, train_sentiment)"
      ],
      "execution_count": 0,
      "outputs": []
    },
    {
      "cell_type": "code",
      "metadata": {
        "colab_type": "code",
        "id": "waBnpKAztX_H",
        "outputId": "199b3d5d-25e5-4f37-aa67-22f50024803f",
        "colab": {
          "base_uri": "https://localhost:8080/",
          "height": 34
        }
      },
      "source": [
        "#Use the the same steps as you did for X_counts and print the kaggle score. Please note that you need to find X_tfidf_test using the X_counts_test.\n",
        "\n",
        "#Write your code here.\n",
        "test['sentiment'] = clf.predict(X_tfidf_test)\n",
        "test[['id', 'sentiment']].to_csv('tfidf_test.csv', encoding='utf-8', index=False)\n",
        "\n",
        "#Uncomment the below lines and add your score.\n",
        "X_tfidf_result = 0.5784\n",
        "print(\"The Kaggle Score using X_tfidf is {}\".format(X_tfidf_result))"
      ],
      "execution_count": 38,
      "outputs": [
        {
          "output_type": "stream",
          "text": [
            "The Kaggle Score using X_tfidf is 0.5784\n"
          ],
          "name": "stdout"
        }
      ]
    },
    {
      "cell_type": "markdown",
      "metadata": {
        "colab_type": "text",
        "id": "8GSTHOCktwVf"
      },
      "source": [
        "#### 3.2.4 Tune an SVM classifier using X_binary_imbalance"
      ]
    },
    {
      "cell_type": "code",
      "metadata": {
        "colab_type": "code",
        "id": "OWPad9EXtzKD",
        "outputId": "a2c7525f-309a-404f-b813-85a810265bc7",
        "colab": {
          "base_uri": "https://localhost:8080/",
          "height": 153
        }
      },
      "source": [
        "#Print the improvement using X_binary_imbalance and the test f1_score using the best c.\n",
        "#Write your code here.\n",
        "c_best,improvement,f1_s = findImprovement(X_binary_imbalance, imbalance_train_sentiment)\n",
        "print('best c:', c_best, '; improvement:', improvement, '; test f1_score:', f1_s)\n"
      ],
      "execution_count": 31,
      "outputs": [
        {
          "output_type": "stream",
          "text": [
            "itr# Time\n",
            "5 28.88272190093994\n",
            "10 104.72456789016724\n",
            "15 198.97556114196777\n",
            "20 248.45314025878906\n",
            "25 283.06400299072266\n",
            "30 358.1304633617401\n",
            "best c: 0.008920535767622903 ; improvement: 0.214797834552796 ; test f1_score: 0.7139107611548557\n"
          ],
          "name": "stdout"
        }
      ]
    },
    {
      "cell_type": "code",
      "metadata": {
        "colab_type": "code",
        "id": "oUsNuBpouEL-",
        "colab": {}
      },
      "source": [
        "# Retrain svm using all X_binary_imbalance data.\n",
        "#Write your code here.\n",
        "clf = svm.LinearSVC(C=c_best, max_iter=10000)\n",
        "clf = clf.fit(X_binary_imbalance, imbalance_train_sentiment)"
      ],
      "execution_count": 0,
      "outputs": []
    },
    {
      "cell_type": "code",
      "metadata": {
        "colab_type": "code",
        "id": "a6YJvYHkuFh8",
        "outputId": "f777d12a-5e52-446c-cac6-e4ced8917af5",
        "colab": {
          "base_uri": "https://localhost:8080/",
          "height": 34
        }
      },
      "source": [
        "#Use the the same steps as you did for X_counts and print the kaggle score.\n",
        "\n",
        "#Write your code here.\n",
        "test['sentiment'] = clf.predict(X_counts_test)\n",
        "test[['id', 'sentiment']].to_csv('imbalance_test.csv', encoding='utf-8', index=False)\n",
        "\n",
        "#Uncomment the below lines and add your score.\n",
        "X_binary_imbalance_result = 0.5172\n",
        "print(\"The Kaggle Score using X_binary_imbalance is {}\".format(X_binary_imbalance_result))"
      ],
      "execution_count": 39,
      "outputs": [
        {
          "output_type": "stream",
          "text": [
            "The Kaggle Score using X_binary_imbalance is 0.5172\n"
          ],
          "name": "stdout"
        }
      ]
    },
    {
      "cell_type": "markdown",
      "metadata": {
        "colab_type": "text",
        "id": "mRxZro0LMixK"
      },
      "source": [
        "Which design matrix performed best (e.g., which encoding method worked best)?\n",
        "What was the lift (improvement in F1-Score) between the worst and best cases for each experiment?\n",
        "\n",
        "Based on Kaggle score, X_tfidf had the best result (0.5784).\n",
        "\n",
        "With binary imbalance having less data points, the computation time reduced drastically. \n",
        "\n",
        "F1-score improvement:\n",
        "\n",
        "X_counts: 0.05637641720905007\n",
        "\n",
        "X_binary: 0.0582855521323693 \n",
        "\n",
        "X_tfidf: 0.06215956228267838 \n",
        "\n",
        "X_binary_imbalance: 0.214797834552796\n",
        "\n",
        "Note: Instead of choosing uniformly from [1e-4, 1e4] for c values, I have chosen uniformly from [-4, 4] and raised them to the power of 10 (as suggested by a discussion thread on Piazza). That way, more spectrum of orders of magnitude could be covered. "
      ]
    },
    {
      "cell_type": "markdown",
      "metadata": {
        "colab_type": "text",
        "id": "DFjZq14Subsb"
      },
      "source": [
        "##4. Learning Curve Experiment [15(10 + 5) Points]"
      ]
    },
    {
      "cell_type": "markdown",
      "metadata": {
        "colab_type": "text",
        "id": "0LfArmX7M0-9"
      },
      "source": [
        "Using a logistic regression classifier and the design matrix X_counts, generate a learning curve:\n",
        "*  Set your rng seed to 0 and create an initial learning_set / test_set split of 80-20.\n",
        "*  Generate a learning curve (xval vs training error) for n=(100, 500, 1000, 2000,3000, 4000, 5000, 7500, 10000, 15000, 20000) training instances.\n",
        "*  Interpret the learning curve."
      ]
    },
    {
      "cell_type": "code",
      "metadata": {
        "colab_type": "code",
        "id": "yZy1W2wCNRrU",
        "colab": {}
      },
      "source": [
        "from sklearn.linear_model import LogisticRegression\n",
        "from sklearn.model_selection import learning_curve"
      ],
      "execution_count": 0,
      "outputs": []
    },
    {
      "cell_type": "code",
      "metadata": {
        "colab_type": "code",
        "id": "OQYNGVZYugpY",
        "outputId": "7a1b3267-e262-4ded-ce29-783682609eaf",
        "colab": {
          "base_uri": "https://localhost:8080/",
          "height": 295
        }
      },
      "source": [
        "training_instances = [100, 500, 1000, 2000, 3000, 4000, 5000, 7500, 10000, 15000, 20000]\n",
        "#Use the learning_curve module to generate mean train and test scores and plot them with X-axis being the number of training instances and Y-axis.\n",
        "#Please add appropriate title,labels and legends.\n",
        "#Write your code here.\n",
        "train_sizes, train_scores, valid_scores = learning_curve(LogisticRegression(), X_counts, train_sentiment, train_sizes=training_instances, cv=5, random_state=0)\n",
        "\n",
        "plt.plot(training_instances, [1-sum(i)/len(i) for i in valid_scores], marker='o', label='Cross-validation Error')\n",
        "plt.plot(training_instances, [1-sum(i)/len(i) for i in train_scores], marker='o', label='Training Error')\n",
        "plt.legend()\n",
        "plt.xlabel('Number of Training Instances')\n",
        "plt.ylabel('Error')\n",
        "plt.title('Learning Curve: Logistic Regression')\n",
        "plt.show()\n"
      ],
      "execution_count": 35,
      "outputs": [
        {
          "output_type": "display_data",
          "data": {
            "image/png": "[encoded data removed]",
            "text/plain": [
              "<Figure size 432x288 with 1 Axes>"
            ]
          },
          "metadata": {
            "tags": []
          }
        }
      ]
    },
    {
      "cell_type": "markdown",
      "metadata": {
        "colab_type": "text",
        "id": "Xm0dRZbpScvV"
      },
      "source": [
        "##### Please provide an explanation to the nature of your graph in the above experiment.\n",
        "\n",
        "The learning curve shows that training error increases with increased training data set. At the same time cv error reduces with increase in training data size and eventually there is a gap between the two. This is an example of a training algorithm that has high variance."
      ]
    }
  ]
}